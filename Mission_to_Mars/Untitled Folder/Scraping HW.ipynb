{
 "cells": [
  {
   "cell_type": "code",
   "execution_count": 28,
   "metadata": {},
   "outputs": [],
   "source": [
    "from splinter import Browser\n",
    "from selenium import webdriver\n",
    "from bs4 import BeautifulSoup\n",
    "import pandas as pd"
   ]
  },
  {
   "cell_type": "code",
   "execution_count": 3,
   "metadata": {},
   "outputs": [],
   "source": [
    "executable_path = {'executable_path': 'chromedriver.exe'}\n",
    "browser = Browser('chrome', **executable_path, headless=False)"
   ]
  },
  {
   "cell_type": "code",
   "execution_count": 3,
   "metadata": {},
   "outputs": [],
   "source": [
    "url = 'https://mars.nasa.gov/news'\n",
    "browser.visit(url)"
   ]
  },
  {
   "cell_type": "code",
   "execution_count": 4,
   "metadata": {},
   "outputs": [
    {
     "name": "stdout",
     "output_type": "stream",
     "text": [
      "The Detective Aboard NASA's Perseverance Rover\n",
      "Five years after NASA’s MAVEN spacecraft entered into orbit around Mars, data from the mission has led to the creation of a map of electric current systems in the Martian atmosphere.\n"
     ]
    }
   ],
   "source": [
    "# Iterate through all pages\n",
    "html = browser.html\n",
    "\n",
    "soup = BeautifulSoup(html, 'html.parser')\n",
    "\n",
    "articles = soup.find_all('div', class_=\"content_title\")\n",
    "content = soup.find_all('div', class_=\"article_teaser_body\")\n",
    "\n",
    "\n",
    "print(articles[1].get_text())\n",
    "print(content[1].get_text())\n",
    "    \n",
    "news_title= articles[1].get_text()\n",
    "\n",
    "news_p= content[0].get_text()\n"
   ]
  },
  {
   "cell_type": "code",
   "execution_count": 44,
   "metadata": {},
   "outputs": [],
   "source": [
    "\n",
    "url = 'https://www.jpl.nasa.gov/spaceimages/?search=&category=Mars'\n",
    "browser.visit(url)\n"
   ]
  },
  {
   "cell_type": "code",
   "execution_count": 45,
   "metadata": {},
   "outputs": [
    {
     "name": "stdout",
     "output_type": "stream",
     "text": [
      "/spaceimages/images/largesize/PIA22949_hires.jpg\n"
     ]
    }
   ],
   "source": [
    "\n",
    "id=\"full_image\"\n",
    "pic =browser.find_by_id(\"full_image\")\n",
    "pic.click()\n",
    "\n",
    "browser.is_element_present_by_text('more info', wait_time=1)\n",
    "more_info_elem = browser.find_link_by_partial_text('more info')\n",
    "more_info_elem.click()\n",
    "\n",
    "\n",
    "html2 = browser.html\n",
    "soup2 = BeautifulSoup(html2, \"html.parser\")\n",
    "#photo = soup.find_all(\"img\", class_=)\n",
    "#photo = soup.find_all(\"div\", class_=\"fancybox-inner fancybox-skin fancybox-dark-skin fancybox-dark-skin-open\")\n",
    "#photo = soup('div', {class:\"fancybox-inner fancybox-skin fancybox-dark-skin fancybox-dark-skin-open\"})[0].find_all('src')\n",
    "image_url = soup2.select_one('figure.lede a img').get(\"src\")\n",
    "print(image_url)\n",
    "img_full_url= \"https://www.jpl.nasa.gov/spaceimages/images/largesize/PIA22949_hires.jpg\""
   ]
  },
  {
   "cell_type": "code",
   "execution_count": 21,
   "metadata": {},
   "outputs": [],
   "source": [
    "url = 'https://twitter.com/marswxreport?lang=en'\n",
    "# url= \"https://twitter.com/MarsWxReport/status/1271545615126802434\"\n",
    "browser.visit(url)"
   ]
  },
  {
   "cell_type": "code",
   "execution_count": 26,
   "metadata": {},
   "outputs": [
    {
     "name": "stdout",
     "output_type": "stream",
     "text": [
      "InSight sol 548 (2020-06-11) low -91.2ºC (-132.1ºF) high -2.8ºC (26.9ºF)\n",
      "winds from the SW at 4.8 m/s (10.8 mph) gusting to 20.1 m/s (45.0 mph)\n",
      "pressure at 7.40 hPa\n",
      "InSight sol 548 (2020-06-11) low -91.2ºC (-132.1ºF) high -2.8ºC (26.9ºF)\n",
      "winds from the SW at 4.8 m/s (10.8 mph) gusting to 20.1 m/s (45.0 mph)\n",
      "pressure at 7.40 hPa\n"
     ]
    }
   ],
   "source": [
    "#scrape mars weather tweets\n",
    "\n",
    "# Iterate through all pages\n",
    "html = browser.html\n",
    "\n",
    "soup = BeautifulSoup(html, 'html.parser')\n",
    "\n",
    "# tweets = soup.find_all('div', class_=\"css-1dbjc4n\")\n",
    "tweets = soup.find_all('div', class_=[\"css-901oao\", \"css-16my406\",\" r-1qd0xha\", \"r-ad9z0x\", \"r-bcqeeo\", \"r-qvutc0\"])\n",
    "content = soup.find_all('div', class_=\"article_teaser_body\")\n",
    "\n",
    "\n",
    "# for i,tweet in enumerate(tweets):\n",
    "#     txt=tweet.get_text()\n",
    "#     if \"InSight sol 548\" in txt: \n",
    "#         print(i)\n",
    "#         print(txt)\n",
    "\n",
    "#print(tweets[0].get_text())\n",
    "#print(content[1].get_text())\n",
    "    \n",
    "mars_weather= tweets[23].get_text()\n",
    "\n",
    "#news_p= content[0].get_text()\n",
    "print(tweets[23].get_text())\n",
    "# print(len(tweets))\n",
    "# print(tweets)\n",
    "print(mars_weather)"
   ]
  },
  {
   "cell_type": "code",
   "execution_count": null,
   "metadata": {},
   "outputs": [],
   "source": [
    "css-901oao css-16my406 r-1qd0xha r-ad9z0x r-bcqeeo r-qvutc0"
   ]
  },
  {
   "cell_type": "code",
   "execution_count": 30,
   "metadata": {},
   "outputs": [
    {
     "data": {
      "text/html": [
       "<div>\n",
       "<style scoped>\n",
       "    .dataframe tbody tr th:only-of-type {\n",
       "        vertical-align: middle;\n",
       "    }\n",
       "\n",
       "    .dataframe tbody tr th {\n",
       "        vertical-align: top;\n",
       "    }\n",
       "\n",
       "    .dataframe thead th {\n",
       "        text-align: right;\n",
       "    }\n",
       "</style>\n",
       "<table border=\"1\" class=\"dataframe\">\n",
       "  <thead>\n",
       "    <tr style=\"text-align: right;\">\n",
       "      <th></th>\n",
       "      <th>0</th>\n",
       "      <th>1</th>\n",
       "    </tr>\n",
       "  </thead>\n",
       "  <tbody>\n",
       "    <tr>\n",
       "      <th>0</th>\n",
       "      <td>Equatorial Diameter:</td>\n",
       "      <td>6,792 km</td>\n",
       "    </tr>\n",
       "    <tr>\n",
       "      <th>1</th>\n",
       "      <td>Polar Diameter:</td>\n",
       "      <td>6,752 km</td>\n",
       "    </tr>\n",
       "    <tr>\n",
       "      <th>2</th>\n",
       "      <td>Mass:</td>\n",
       "      <td>6.39 × 10^23 kg (0.11 Earths)</td>\n",
       "    </tr>\n",
       "    <tr>\n",
       "      <th>3</th>\n",
       "      <td>Moons:</td>\n",
       "      <td>2 (Phobos &amp; Deimos)</td>\n",
       "    </tr>\n",
       "    <tr>\n",
       "      <th>4</th>\n",
       "      <td>Orbit Distance:</td>\n",
       "      <td>227,943,824 km (1.38 AU)</td>\n",
       "    </tr>\n",
       "    <tr>\n",
       "      <th>5</th>\n",
       "      <td>Orbit Period:</td>\n",
       "      <td>687 days (1.9 years)</td>\n",
       "    </tr>\n",
       "    <tr>\n",
       "      <th>6</th>\n",
       "      <td>Surface Temperature:</td>\n",
       "      <td>-87 to -5 °C</td>\n",
       "    </tr>\n",
       "    <tr>\n",
       "      <th>7</th>\n",
       "      <td>First Record:</td>\n",
       "      <td>2nd millennium BC</td>\n",
       "    </tr>\n",
       "    <tr>\n",
       "      <th>8</th>\n",
       "      <td>Recorded By:</td>\n",
       "      <td>Egyptian astronomers</td>\n",
       "    </tr>\n",
       "  </tbody>\n",
       "</table>\n",
       "</div>"
      ],
      "text/plain": [
       "                      0                              1\n",
       "0  Equatorial Diameter:                       6,792 km\n",
       "1       Polar Diameter:                       6,752 km\n",
       "2                 Mass:  6.39 × 10^23 kg (0.11 Earths)\n",
       "3                Moons:            2 (Phobos & Deimos)\n",
       "4       Orbit Distance:       227,943,824 km (1.38 AU)\n",
       "5         Orbit Period:           687 days (1.9 years)\n",
       "6  Surface Temperature:                   -87 to -5 °C\n",
       "7         First Record:              2nd millennium BC\n",
       "8          Recorded By:           Egyptian astronomers"
      ]
     },
     "execution_count": 30,
     "metadata": {},
     "output_type": "execute_result"
    }
   ],
   "source": [
    "pd.read_html(\"https://space-facts.com/mars/\")[0]"
   ]
  },
  {
   "cell_type": "code",
   "execution_count": 85,
   "metadata": {},
   "outputs": [],
   "source": [
    "url = 'https://astrogeology.usgs.gov/search/results?q=hemisphere+enhanced&k1=target&v1=Mars'\n",
    "browser.visit(url)"
   ]
  },
  {
   "cell_type": "code",
   "execution_count": 86,
   "metadata": {},
   "outputs": [
    {
     "name": "stdout",
     "output_type": "stream",
     "text": [
      "[{'image_title': 'Cerberus Hemisphere Enhanced', 'image_url': 'https://astropedia.astrogeology.usgs.gov/download/Mars/Viking/cerberus_enhanced.tif/full.jpg'}, {'image_title': 'Schiaparelli Hemisphere Enhanced', 'image_url': 'https://astropedia.astrogeology.usgs.gov/download/Mars/Viking/schiaparelli_enhanced.tif/full.jpg'}, {'image_title': 'Syrtis Major Hemisphere Enhanced', 'image_url': 'https://astropedia.astrogeology.usgs.gov/download/Mars/Viking/syrtis_major_enhanced.tif/full.jpg'}, {'image_title': 'Valles Marineris Hemisphere Enhanced', 'image_url': 'https://astropedia.astrogeology.usgs.gov/download/Mars/Viking/valles_marineris_enhanced.tif/full.jpg'}]\n"
     ]
    }
   ],
   "source": [
    "var=browser.find_by_css(\"a.product-item h3\")\n",
    "var\n",
    "\n",
    "img_list=[]\n",
    "\n",
    "for j in range(len(var)):\n",
    "    img_dict={}\n",
    "    browser.find_by_css(\"a.product-item h3\")[j].click()\n",
    "    img=browser.find_by_text(\"Sample\").first\n",
    "    link= img[\"href\"]\n",
    "    \n",
    "#     title=browser.find_by_text(\"Cerberus\").first\n",
    "    title=browser.find_by_tag(\"h2\").text\n",
    "#     title=browser.find_by_css(\"title\", \"h2\").text\n",
    "   \n",
    "    img_dict[\"image_title\"]=title\n",
    "    img_dict[\"image_url\"]=link\n",
    "    img_list.append(img_dict)\n",
    "    \n",
    "    browser.back()\n",
    "print(img_list)  \n",
    "#     print(title)\n",
    " img_list[\n",
    "     {}\n",
    "\n",
    " ]\n",
    "    \n"
   ]
  },
  {
   "cell_type": "code",
   "execution_count": 88,
   "metadata": {},
   "outputs": [
    {
     "data": {
      "text/plain": [
       "'l'"
      ]
     },
     "execution_count": 88,
     "metadata": {},
     "output_type": "execute_result"
    }
   ],
   "source": [
    "img_dict[\"image_title\"]"
   ]
  },
  {
   "cell_type": "code",
   "execution_count": null,
   "metadata": {},
   "outputs": [],
   "source": []
  },
  {
   "cell_type": "code",
   "execution_count": null,
   "metadata": {},
   "outputs": [],
   "source": []
  }
 ],
 "metadata": {
  "kernelspec": {
   "display_name": "Python 3",
   "language": "python",
   "name": "python3"
  },
  "language_info": {
   "codemirror_mode": {
    "name": "ipython",
    "version": 3
   },
   "file_extension": ".py",
   "mimetype": "text/x-python",
   "name": "python",
   "nbconvert_exporter": "python",
   "pygments_lexer": "ipython3",
   "version": "3.6.10"
  }
 },
 "nbformat": 4,
 "nbformat_minor": 4
}